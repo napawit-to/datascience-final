{
 "cells": [
  {
   "cell_type": "code",
   "execution_count": 249,
   "metadata": {},
   "outputs": [],
   "source": [
    "import numpy as np\n",
    "import pandas as pd\n",
    "from sklearn.linear_model import LogisticRegression\n",
    "from sklearn.tree import DecisionTreeClassifier\n",
    "from sklearn.svm import SVC\n",
    "from sklearn.neural_network import MLPClassifier\n",
    "from sklearn.ensemble import RandomForestClassifier\n",
    "\n",
    "from sklearn.model_selection import train_test_split\n",
    "from sklearn.model_selection import cross_val_score\n",
    "from sklearn.model_selection import GridSearchCV\n",
    "from sklearn.model_selection import RandomizedSearchCV\n",
    "\n",
    "from sklearn.metrics import roc_curve\n",
    "from sklearn.metrics import roc_auc_score\n",
    "from sklearn.metrics import confusion_matrix\n",
    "from sklearn.metrics import precision_score\n",
    "from sklearn.metrics import recall_score\n",
    "from sklearn.metrics import f1_score\n",
    "from sklearn.metrics import accuracy_score\n",
    "from sklearn.metrics import precision_recall_curve\n",
    "\n",
    "from imblearn.over_sampling import RandomOverSampler\n",
    "from imblearn.under_sampling import RandomUnderSampler\n",
    "from imblearn.over_sampling import SMOTE\n",
    "from sklearn.preprocessing import MinMaxScaler\n",
    "import pickle\n",
    "import warnings\n"
   ]
  },
  {
   "cell_type": "code",
   "execution_count": 250,
   "metadata": {},
   "outputs": [],
   "source": [
    "warnings.filterwarnings(\"ignore\")"
   ]
  },
  {
   "cell_type": "code",
   "execution_count": 251,
   "metadata": {},
   "outputs": [],
   "source": [
    "trained_filename = 'ebook_rating.csv'"
   ]
  },
  {
   "cell_type": "code",
   "execution_count": 252,
   "metadata": {},
   "outputs": [],
   "source": [
    "df = pd.read_csv(trained_filename, encoding = \"ISO-8859-1\")"
   ]
  },
  {
   "cell_type": "markdown",
   "metadata": {},
   "source": [
    "### Clean data"
   ]
  },
  {
   "cell_type": "code",
   "execution_count": 253,
   "metadata": {},
   "outputs": [],
   "source": [
    "mean_value=df['Rating'].mean()\n",
    "df['Rating']=df['Rating'].fillna(mean_value)"
   ]
  },
  {
   "cell_type": "code",
   "execution_count": 254,
   "metadata": {},
   "outputs": [],
   "source": [
    "df['Number of Reviews']=df['Number of Reviews'].fillna(0)\n",
    "df['Number of Reviews'] = pd.to_numeric(df['Number of Reviews'], errors='coerce').fillna(0).astype(np.int64)\n",
    "df['File Size'] = df['File Size'].astype('str')\n",
    "df['File Size'] = df['File Size'].replace('M', ' ', regex=True)\n",
    "df['File Size'] = df['File Size'].replace('k', ' ', regex=True)\n",
    "df['File Size'].replace('Varies with device', 0, inplace=True)\n",
    "df['File Size'] = pd.to_numeric(df['File Size'], errors='coerce').fillna(0).astype(np.int64)\n",
    "df['Units Sold'] = df['Units Sold'].replace('\\+',' ', regex=True).fillna(0)\n",
    "df['Units Sold'] = pd.to_numeric(df['Units Sold'], errors='coerce').fillna(0).astype(np.int64)\n",
    "df['Current Ver'] = df['Current Ver'].astype('str')\n",
    "df['Current Ver'].replace('Varies with device', 0, inplace=True)\n",
    "df['Current Ver'] = pd.to_numeric(df['Current Ver'], errors='coerce').fillna(0).astype(np.int64)\n",
    "df['Price'] = df['Price'].replace('\\$', ' ', regex=True)\n",
    "df['Price'] = pd.to_numeric(df['Price'], errors='coerce').fillna(0).astype(np.int64)"
   ]
  },
  {
   "cell_type": "code",
   "execution_count": 255,
   "metadata": {},
   "outputs": [],
   "source": [
    "df = df.drop('Book Title',axis=1)\n",
    "df = df.drop('Last Updated',axis=1)\n",
    "clean_data_obj = df.select_dtypes(include=['object'])\n",
    "clean_data_num = df.select_dtypes(exclude=['object'])\n",
    "clean_data_obj = pd.get_dummies(clean_data_obj,drop_first=True)\n",
    "scaler = MinMaxScaler()\n",
    "scaler.fit(clean_data_num)\n",
    "clean_data_num = pd.DataFrame(scaler.transform(clean_data_num),columns=clean_data_num.keys())\n",
    "# Join back the data\n",
    "clean_data = clean_data_num.join(clean_data_obj)"
   ]
  },
  {
   "cell_type": "markdown",
   "metadata": {},
   "source": [
    "### Cross validation"
   ]
  },
  {
   "cell_type": "code",
   "execution_count": null,
   "metadata": {},
   "outputs": [],
   "source": []
  }
 ],
 "metadata": {
  "kernelspec": {
   "display_name": "Python 3",
   "language": "python",
   "name": "python3"
  },
  "language_info": {
   "codemirror_mode": {
    "name": "ipython",
    "version": 3
   },
   "file_extension": ".py",
   "mimetype": "text/x-python",
   "name": "python",
   "nbconvert_exporter": "python",
   "pygments_lexer": "ipython3",
   "version": "3.7.0"
  }
 },
 "nbformat": 4,
 "nbformat_minor": 2
}

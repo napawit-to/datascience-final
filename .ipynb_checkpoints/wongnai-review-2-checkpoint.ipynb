{
 "cells": [
  {
   "cell_type": "code",
   "execution_count": 1,
   "metadata": {},
   "outputs": [
    {
     "name": "stderr",
     "output_type": "stream",
     "text": [
      "[nltk_data] Downloading package omw to /Users/admin/nltk_data...\n",
      "[nltk_data]   Unzipping corpora/omw.zip.\n",
      "[nltk_data] Downloading package wordnet to /Users/admin/nltk_data...\n",
      "[nltk_data]   Unzipping corpora/wordnet.zip.\n"
     ]
    }
   ],
   "source": [
    "import re\n",
    "import pythainlp\n",
    "from pythainlp import word_tokenize\n",
    "from nltk.stem.porter import PorterStemmer\n",
    "from nltk.corpus import words\n",
    "from stop_words import get_stop_words\n",
    "from pythainlp.corpus import wordnet"
   ]
  },
  {
   "cell_type": "code",
   "execution_count": 2,
   "metadata": {},
   "outputs": [],
   "source": [
    "import os\n",
    "import pandas as pd\n",
    "filename = 'w_review_train.csv'\n",
    "column_names=['reviews', 'rating']\n",
    "df = pd.read_csv(filename, sep=';', header=None, names=column_names)"
   ]
  },
  {
   "cell_type": "code",
   "execution_count": 3,
   "metadata": {},
   "outputs": [
    {
     "name": "stderr",
     "output_type": "stream",
     "text": [
      "[nltk_data] Downloading package words to /Users/admin/nltk_data...\n",
      "[nltk_data]   Unzipping corpora/words.zip.\n"
     ]
    }
   ],
   "source": [
    "import nltk\n",
    "nltk.download('words')\n",
    "en_stop = tuple(get_stop_words('en'))"
   ]
  },
  {
   "cell_type": "code",
   "execution_count": 7,
   "metadata": {},
   "outputs": [
    {
     "ename": "SyntaxError",
     "evalue": "invalid syntax (<ipython-input-7-206377acc1fd>, line 10)",
     "output_type": "error",
     "traceback": [
      "\u001b[0;36m  File \u001b[0;32m\"<ipython-input-7-206377acc1fd>\"\u001b[0;36m, line \u001b[0;32m10\u001b[0m\n\u001b[0;31m    tokens = i for i in tokens if not i in th_stop and not i in en_stop\u001b[0m\n\u001b[0m                 ^\u001b[0m\n\u001b[0;31mSyntaxError\u001b[0m\u001b[0;31m:\u001b[0m invalid syntax\n"
     ]
    }
   ],
   "source": [
    "from pythainlp.corpus.common import thai_stopwords \n",
    "custom_th_stop = ('อาทิ', 'ดร', 'มรว', 'มล', 'พตต', 'พตท', 'พตอ',) \n",
    "th_stop = tuple(thai_stopwords()) + custom_th_stop\n",
    "stemmer = PorterStemmer()\n",
    "def preprocess_raw_text(txt):\n",
    "    th_reg_pat = re.compile(r\"^\\u0E00-\\u0E7Fa-zA-Z\\s'|^'|'$|''\")\n",
    "    msg = th_reg_pat.sub(r'<.*?>','', msg)\n",
    "    msg = re.sub('',msg)\n",
    "    for c in string.punctuation:\n",
    "        msg = re.sub(r'\\{}'.format(c),'',msg)\n",
    "    msg = ' '.join(msg.split())\n",
    "    return msg"
   ]
  },
  {
   "cell_type": "code",
   "execution_count": null,
   "metadata": {},
   "outputs": [],
   "source": [
    "print(preprocess_raw_text('ร้านอาหารใหญ่มากกกกกกก'))"
   ]
  },
  {
   "cell_type": "code",
   "execution_count": null,
   "metadata": {},
   "outputs": [],
   "source": []
  }
 ],
 "metadata": {
  "kernelspec": {
   "display_name": "Python 3",
   "language": "python",
   "name": "python3"
  },
  "language_info": {
   "codemirror_mode": {
    "name": "ipython",
    "version": 3
   },
   "file_extension": ".py",
   "mimetype": "text/x-python",
   "name": "python",
   "nbconvert_exporter": "python",
   "pygments_lexer": "ipython3",
   "version": "3.7.0"
  }
 },
 "nbformat": 4,
 "nbformat_minor": 2
}
